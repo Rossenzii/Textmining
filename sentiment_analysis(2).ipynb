{
 "cells": [
  {
   "cell_type": "markdown",
   "metadata": {},
   "source": [
    "**Prob 1-4: Prob 1-3처럼 정제된 데이터에 Machine Learning을 이용해 감성분석 모델을 \n",
    "Train 데이터로 훈련시킨 후, Validation 데이터로 성능을 검증하세요. (Confusion Matrix, \n",
    "Accuracy 및 F1-Score 계산)**"
   ]
  },
  {
   "cell_type": "code",
   "execution_count": 2,
   "metadata": {},
   "outputs": [],
   "source": [
    "import pandas as pd\n",
    "df_training = pd.read_csv('twitter_training.csv')\n",
    "df_new_t = df_training[~df_training.iloc[:,2].isin(['Neutral', 'Irrelevant'])]"
   ]
  },
  {
   "cell_type": "code",
   "execution_count": 3,
   "metadata": {},
   "outputs": [
    {
     "name": "stdout",
     "output_type": "stream",
     "text": [
      "{'Negative', 'Positive'}\n"
     ]
    }
   ],
   "source": [
    "categories_t = df_new_t.iloc[:, 2].tolist()\n",
    "reviews_t = df_new_t.iloc[:, 3].tolist()\n",
    "reviews_t = [str(doc) if pd.notna(doc) else '' for doc in reviews_t]\n",
    "print(set(categories_t))"
   ]
  },
  {
   "cell_type": "code",
   "execution_count": 4,
   "metadata": {},
   "outputs": [],
   "source": [
    "from nltk.corpus import stopwords\n",
    "from nltk.tokenize import RegexpTokenizer\n",
    "\n",
    "english_stops = set(stopwords.words('english'))\n",
    "tokenizer = RegexpTokenizer(r'\\w+')\n",
    "\n",
    "#리뷰 전처리 함수\n",
    "def preprocess_reviews(reviews):\n",
    "    processed_reviews = []\n",
    "    for review in reviews:\n",
    "        if isinstance(review, str):  # 리뷰가 문자열인지 \n",
    "            tokens = tokenizer.tokenize(review.lower())\n",
    "            filtered_words = [word for word in tokens if word not in english_stops]\n",
    "            processed_reviews.append(' '.join(filtered_words))\n",
    "        else:\n",
    "            processed_reviews.append('') \n",
    "    return processed_reviews\n",
    "\n",
    "# 리뷰 전처리 실행\n",
    "cleaned_reviews_t = preprocess_reviews(reviews_t)"
   ]
  },
  {
   "cell_type": "markdown",
   "metadata": {},
   "source": [
    "**validation**"
   ]
  },
  {
   "cell_type": "code",
   "execution_count": 5,
   "metadata": {},
   "outputs": [
    {
     "name": "stdout",
     "output_type": "stream",
     "text": [
      "{'Negative', 'Positive'}\n"
     ]
    }
   ],
   "source": [
    "import pandas as pd\n",
    "df_validation = pd.read_csv('twitter_validation.csv')\n",
    "df_new_v = df_validation[~df_validation.iloc[:,2].isin(['Neutral', 'Irrelevant'])]\n",
    "\n",
    "categories_v = df_new_v.iloc[:, 2].tolist()\n",
    "reviews_v = df_new_v.iloc[:, 3].tolist()\n",
    "reviews_v = [str(doc) if pd.notna(doc) else '' for doc in reviews_v]\n",
    "print(set(categories_v))"
   ]
  },
  {
   "cell_type": "code",
   "execution_count": 6,
   "metadata": {},
   "outputs": [],
   "source": [
    "cleaned_reviews_v = preprocess_reviews(reviews_v)"
   ]
  },
  {
   "cell_type": "code",
   "execution_count": 12,
   "metadata": {},
   "outputs": [
    {
     "name": "stdout",
     "output_type": "stream",
     "text": [
      "Training Accuracy: 0.8681437760818943\n",
      "Validation Accuracy: 0.8931860036832413\n",
      "Training F1 Score: 0.8679480167286341\n",
      "Validation F1 Score: 0.8931925262770564\n"
     ]
    }
   ],
   "source": [
    "# 1. Naive Bayes\n",
    "from sklearn.naive_bayes import MultinomialNB\n",
    "from sklearn.feature_extraction.text import TfidfVectorizer\n",
    "from sklearn.metrics import accuracy_score, f1_score\n",
    "\n",
    "# 1) TF-IDF 벡터화\n",
    "tfidf_vectorizer = TfidfVectorizer(max_features=5000) \n",
    "train_features = tfidf_vectorizer.fit_transform(reviews_t)\n",
    "test_features = tfidf_vectorizer.transform(reviews_v)\n",
    "\n",
    "model = MultinomialNB()  \n",
    "model.fit(train_features, categories_t)\n",
    "\n",
    "# 예측\n",
    "train_pred = model.predict(train_features)\n",
    "val_pred = model.predict(test_features)\n",
    "\n",
    "# 성능 평가\n",
    "train_accuracy = accuracy_score(categories_t, train_pred)\n",
    "val_accuracy = accuracy_score(categories_v, val_pred)\n",
    "train_f1 = f1_score(categories_t, train_pred, average='weighted')\n",
    "val_f1 = f1_score(categories_v, val_pred, average='weighted')\n",
    "\n",
    "\n",
    "print(f\"Training Accuracy: {train_accuracy}\")\n",
    "print(f\"Validation Accuracy: {val_accuracy}\")\n",
    "print(f\"Training F1 Score: {train_f1}\")\n",
    "print(f\"Validation F1 Score: {val_f1}\")"
   ]
  },
  {
   "cell_type": "code",
   "execution_count": 13,
   "metadata": {},
   "outputs": [
    {
     "name": "stdout",
     "output_type": "stream",
     "text": [
      "Training Accuracy: 0.8574689322850622\n",
      "Validation Accuracy: 0.8931860036832413\n",
      "Training F1 Score: 0.8573679751328456\n",
      "Validation F1 Score: 0.893164251077279\n"
     ]
    }
   ],
   "source": [
    "from sklearn.naive_bayes import MultinomialNB\n",
    "from sklearn.feature_extraction.text import CountVectorizer\n",
    "from sklearn.metrics import accuracy_score, f1_score\n",
    "\n",
    "# 2) Count Vectorization\n",
    "count_vectorizer = CountVectorizer(stop_words='english', max_features=5000) \n",
    "train_features = count_vectorizer.fit_transform(reviews_t)\n",
    "test_features = count_vectorizer.transform(reviews_v)\n",
    "\n",
    "model = MultinomialNB()  \n",
    "model.fit(train_features, categories_t)\n",
    "\n",
    "# 예측\n",
    "train_pred = model.predict(train_features)\n",
    "val_pred = model.predict(test_features)\n",
    "\n",
    "# 성능 평가\n",
    "train_accuracy = accuracy_score(categories_t, train_pred)\n",
    "val_accuracy = accuracy_score(categories_v, val_pred)\n",
    "train_f1 = f1_score(categories_t, train_pred, average='weighted')\n",
    "val_f1 = f1_score(categories_v, val_pred, average='weighted')\n",
    "\n",
    "print(f\"Training Accuracy: {train_accuracy}\")\n",
    "print(f\"Validation Accuracy: {val_accuracy}\")\n",
    "print(f\"Training F1 Score: {train_f1}\")\n",
    "print(f\"Validation F1 Score: {val_f1}\")"
   ]
  },
  {
   "cell_type": "code",
   "execution_count": 16,
   "metadata": {},
   "outputs": [
    {
     "name": "stdout",
     "output_type": "stream",
     "text": [
      "Training Accuracy: 0.9207802088857123\n",
      "Validation Accuracy: 0.9521178637200737\n",
      "Training F1 Score: 0.9208086316617424\n",
      "Validation F1 Score: 0.9521224115484856\n"
     ]
    }
   ],
   "source": [
    "# 2. Logistic Regression\n",
    "from sklearn.linear_model import LogisticRegression\n",
    "from sklearn.feature_extraction.text import TfidfVectorizer\n",
    "from sklearn.metrics import accuracy_score, f1_score, precision_score, recall_score\n",
    "\n",
    "# 1) TF-IDF 벡터화\n",
    "tfidf_vectorizer = TfidfVectorizer(stop_words='english', max_features=20000)\n",
    "train_features = tfidf_vectorizer.fit_transform(reviews_t)\n",
    "val_features = tfidf_vectorizer.transform(reviews_v)\n",
    "\n",
    "model = LogisticRegression(class_weight='balanced')  \n",
    "model.fit(train_features, categories_t)\n",
    "\n",
    "# 예측\n",
    "train_pred = model.predict(train_features)\n",
    "val_pred = model.predict(val_features)\n",
    "\n",
    "# 성능 평가\n",
    "train_accuracy = accuracy_score(categories_t, train_pred)\n",
    "val_accuracy = accuracy_score(categories_v, val_pred)\n",
    "train_f1 = f1_score(categories_t, train_pred, average='weighted')\n",
    "val_f1 = f1_score(categories_v, val_pred, average='weighted')\n",
    "\n",
    "print(f\"Training Accuracy: {train_accuracy}\")\n",
    "print(f\"Validation Accuracy: {val_accuracy}\")\n",
    "print(f\"Training F1 Score: {train_f1}\")\n",
    "print(f\"Validation F1 Score: {val_f1}\")"
   ]
  },
  {
   "cell_type": "code",
   "execution_count": 17,
   "metadata": {},
   "outputs": [
    {
     "name": "stdout",
     "output_type": "stream",
     "text": [
      "Count Vectorization - Training Accuracy: 0.9103128674521015\n",
      "Count Vectorization - Validation Accuracy: 0.9484346224677717\n",
      "Count Vectorization - Training F1 Score: 0.9103467407680478\n",
      "Count Vectorization - Validation F1 Score: 0.9484300727873867\n"
     ]
    }
   ],
   "source": [
    "# 2) count 벡터화\n",
    "from sklearn.feature_extraction.text import CountVectorizer\n",
    "\n",
    "count_vectorizer = CountVectorizer(stop_words='english', max_features=5000)\n",
    "train_features_count = count_vectorizer.fit_transform(reviews_t)\n",
    "val_features_count = count_vectorizer.transform(reviews_v)\n",
    "\n",
    "# 로지스틱 회귀 모델 학습\n",
    "model_count = LogisticRegression()\n",
    "model_count.fit(train_features_count, categories_t)\n",
    "\n",
    "# 예측\n",
    "train_pred2 = model_count.predict(train_features_count)\n",
    "val_pred2 = model_count.predict(val_features_count)\n",
    "\n",
    "# 성능 평가\n",
    "train_accuracy2 = accuracy_score(categories_t, train_pred2)\n",
    "val_accuracy2 = accuracy_score(categories_v, val_pred2)\n",
    "train_f1_2 = f1_score(categories_t, train_pred2, average='weighted')\n",
    "val_f1_2 = f1_score(categories_v, val_pred2, average='weighted')\n",
    "\n",
    "print(f\"Count Vectorization - Training Accuracy: {train_accuracy2}\")\n",
    "print(f\"Count Vectorization - Validation Accuracy: {val_accuracy2}\")\n",
    "print(f\"Count Vectorization - Training F1 Score: {train_f1_2}\")\n",
    "print(f\"Count Vectorization - Validation F1 Score: {val_f1_2}\")"
   ]
  },
  {
   "cell_type": "code",
   "execution_count": 18,
   "metadata": {},
   "outputs": [
    {
     "name": "stdout",
     "output_type": "stream",
     "text": [
      "Training Accuracy: 0.968574919881032\n",
      "Validation Accuracy: 0.9852670349907919\n",
      "Training F1 Score: 0.9685871331620551\n",
      "Validation F1 Score: 0.9852657350821103\n"
     ]
    }
   ],
   "source": [
    "# 3. SVM(Support Vector Machine)\n",
    "from sklearn.svm import SVC\n",
    "from sklearn.feature_extraction.text import TfidfVectorizer\n",
    "from sklearn.metrics import accuracy_score, f1_score, precision_score, recall_score\n",
    "\n",
    "# 1) TF-IDF 벡터화\n",
    "tfidf_vectorizer = TfidfVectorizer(stop_words='english', max_features=5000) \n",
    "train_features = tfidf_vectorizer.fit_transform(reviews_t)\n",
    "test_features = tfidf_vectorizer.transform(reviews_v)\n",
    "\n",
    "model = SVC() \n",
    "model.fit(train_features, categories_t)\n",
    "\n",
    "# 예측\n",
    "train_pred = model.predict(train_features)\n",
    "val_pred = model.predict(test_features)\n",
    "\n",
    "# 성능 평가\n",
    "train_accuracy = accuracy_score(categories_t, train_pred)\n",
    "val_accuracy = accuracy_score(categories_v, val_pred)\n",
    "train_f1 = f1_score(categories_t, train_pred, average='weighted')\n",
    "val_f1 = f1_score(categories_v, val_pred, average='weighted')\n",
    "\n",
    "\n",
    "print(f\"Training Accuracy: {train_accuracy}\")\n",
    "print(f\"Validation Accuracy: {val_accuracy}\")\n",
    "print(f\"Training F1 Score: {train_f1}\")\n",
    "print(f\"Validation F1 Score: {val_f1}\")"
   ]
  },
  {
   "cell_type": "code",
   "execution_count": 19,
   "metadata": {},
   "outputs": [
    {
     "name": "stdout",
     "output_type": "stream",
     "text": [
      "Training Accuracy: 0.9501302653724667\n",
      "Validation Accuracy: 0.9686924493554327\n",
      "Training F1 Score: 0.9501496740936142\n",
      "Validation F1 Score: 0.9686935115320863\n"
     ]
    }
   ],
   "source": [
    "from sklearn.svm import SVC\n",
    "from sklearn.feature_extraction.text import CountVectorizer\n",
    "from sklearn.metrics import accuracy_score, f1_score\n",
    "\n",
    "# 2) Count Vectorization\n",
    "count_vectorizer = CountVectorizer(stop_words='english', max_features=5000)  \n",
    "train_features = count_vectorizer.fit_transform(reviews_t)\n",
    "test_features = count_vectorizer.transform(reviews_v)\n",
    "\n",
    "\n",
    "model = SVC() \n",
    "model.fit(train_features, categories_t)\n",
    "\n",
    "# 예측\n",
    "train_pred = model.predict(train_features)\n",
    "val_pred = model.predict(test_features)\n",
    "\n",
    "# 성능 평가\n",
    "train_accuracy = accuracy_score(categories_t, train_pred)\n",
    "val_accuracy = accuracy_score(categories_v, val_pred)\n",
    "train_f1 = f1_score(categories_t, train_pred, average='weighted')\n",
    "val_f1 = f1_score(categories_v, val_pred, average='weighted')\n",
    "\n",
    "print(f\"Training Accuracy: {train_accuracy}\")\n",
    "print(f\"Validation Accuracy: {val_accuracy}\")\n",
    "print(f\"Training F1 Score: {train_f1}\")\n",
    "print(f\"Validation F1 Score: {val_f1}\")"
   ]
  },
  {
   "cell_type": "markdown",
   "metadata": {},
   "source": [
    "**결과**\n",
    "\n",
    "텍스트 분류 성능을 극대화하는 최적의 머신러닝 모델과 벡터화 방법을 찾아보았다. \n",
    "\n",
    "이를 위해 Naive Bayes, Logistic Regression, Support Vector Machine (SVM) 세 가지 모델을 사용하여 텍스트 데이터를 분류하고, 벡터화 방법으로는 TF-IDF와 Count Vectorizer를 적용하여 성능을 비교했다.\n",
    "\n",
    "그 결과 SVM 모델에 TF-IDF 벡터화를 적용했을 때 가장 높은 정확도와 F1 Score가 나타났다.\n",
    "Training Accuracy: 0.9686,\n",
    "Validation Accuracy: 0.9853,\n",
    "Training F1 Score: 0.9686,\n",
    "Validation F1 Score: 0.9853"
   ]
  },
  {
   "cell_type": "markdown",
   "metadata": {},
   "source": [
    "**Confusion Martix**"
   ]
  },
  {
   "cell_type": "code",
   "execution_count": 26,
   "metadata": {},
   "outputs": [
    {
     "data": {
      "image/png": "[encoded data removed]",
      "text/plain": [
       "<Figure size 800x600 with 1 Axes>"
      ]
     },
     "metadata": {},
     "output_type": "display_data"
    }
   ],
   "source": [
    "from sklearn.metrics import confusion_matrix\n",
    "import matplotlib.pyplot as plt\n",
    "import seaborn as sns\n",
    "\n",
    "# Confusion Matrix \n",
    "train_cm = confusion_matrix(categories_t, train_pred)\n",
    "val_cm = confusion_matrix(categories_v, val_pred)\n",
    "\n",
    "\n",
    "def plot_confusion_matrix(cm, title):\n",
    "    plt.figure(figsize=(8, 6))\n",
    "    sns.heatmap(cm, annot=True, fmt=\"d\", cmap=\"Blues\", cbar=False)\n",
    "    plt.xlabel(\"Predicted Label\")\n",
    "    plt.ylabel(\"True Label\")\n",
    "    plt.title(title)\n",
    "    plt.show()\n",
    "\n",
    "# 검증 데이터 Confusion Matrix\n",
    "plot_confusion_matrix(val_cm, \"Validation Confusion Matrix\")\n"
   ]
  }
 ],
 "metadata": {
  "kernelspec": {
   "display_name": "nltk",
   "language": "python",
   "name": "python3"
  },
  "language_info": {
   "codemirror_mode": {
    "name": "ipython",
    "version": 3
   },
   "file_extension": ".py",
   "mimetype": "text/x-python",
   "name": "python",
   "nbconvert_exporter": "python",
   "pygments_lexer": "ipython3",
   "version": "3.12.5"
  }
 },
 "nbformat": 4,
 "nbformat_minor": 2
}
