{
 "cells": [
  {
   "cell_type": "markdown",
   "metadata": {},
   "source": [
    "**Word Embedding**"
   ]
  },
  {
   "cell_type": "code",
   "execution_count": 1,
   "metadata": {},
   "outputs": [],
   "source": [
    "import pandas as pd\n",
    "df= pd.read_csv('twitter_training.csv')\n",
    "df_new= df[~df.iloc[:,2].isin(['Neutral', 'Irrelevant'])]"
   ]
  },
  {
   "cell_type": "code",
   "execution_count": 2,
   "metadata": {},
   "outputs": [
    {
     "name": "stdout",
     "output_type": "stream",
     "text": [
      "{'Negative', 'Positive'}\n"
     ]
    }
   ],
   "source": [
    "categories = df_new.iloc[:, 2].tolist()\n",
    "reviews= df_new.iloc[:, 3].tolist()\n",
    "reviews= [str(doc) if pd.notna(doc) else '' for doc in reviews]\n",
    "print(set(categories))"
   ]
  },
  {
   "cell_type": "code",
   "execution_count": 3,
   "metadata": {},
   "outputs": [],
   "source": [
    "# 데이터 전처리\n",
    "from nltk.corpus import stopwords\n",
    "from nltk.tokenize import RegexpTokenizer\n",
    "\n",
    "# 영어 불용어와 토크나이저 설정\n",
    "english_stops = set(stopwords.words('english'))\n",
    "tokenizer = RegexpTokenizer(r'\\w+')\n",
    "\n",
    "# 리뷰 전처리 함수\n",
    "def preprocess_reviews(reviews):\n",
    "    processed_reviews = []\n",
    "    for review in reviews:\n",
    "        if isinstance(review, str):  # 리뷰가 문자열인지 확인\n",
    "            tokens = tokenizer.tokenize(review.lower())  # 토큰화\n",
    "            filtered_words = [word for word in tokens if word not in english_stops]  # 불용어 제거\n",
    "            processed_reviews.append(filtered_words)  # 토큰화된 단어 리스트 추가\n",
    "        else:\n",
    "            processed_reviews.append([])  # 비어있는 리스트로 추가\n",
    "    return processed_reviews\n"
   ]
  },
  {
   "cell_type": "code",
   "execution_count": 75,
   "metadata": {},
   "outputs": [
    {
     "data": {
      "text/plain": [
       "['coming', 'borders', 'kill']"
      ]
     },
     "execution_count": 75,
     "metadata": {},
     "output_type": "execute_result"
    }
   ],
   "source": [
    "cleaned_reviews = preprocess_reviews(reviews)\n",
    "cleaned_reviews[0]"
   ]
  },
  {
   "cell_type": "markdown",
   "metadata": {},
   "source": [
    "**임베딩**"
   ]
  },
  {
   "cell_type": "code",
   "execution_count": 5,
   "metadata": {},
   "outputs": [],
   "source": [
    "from gensim.models import Word2Vec\n",
    "embedding_dim = 100\n",
    "model = Word2Vec(cleaned_reviews, vector_size=embedding_dim, window=5, min_count=5, workers=4, sg=0)"
   ]
  },
  {
   "cell_type": "code",
   "execution_count": 6,
   "metadata": {},
   "outputs": [
    {
     "name": "stdout",
     "output_type": "stream",
     "text": [
      "vector for 'kill':\n",
      "[ 0.20713875  0.10943431 -0.20343062 -0.29024893  0.26327556 -0.18573186\n",
      " -0.25068578  0.66638374 -0.15340312  0.21551138  0.03479638  0.25245056\n",
      "  0.12353029  0.17308888  0.4159461  -0.06338977 -0.5403896   0.02372609\n",
      "  0.5647191  -0.5005182   0.9165206   0.54119575 -0.03095126 -0.20766383\n",
      " -0.23468862 -0.48248723 -0.3155005  -0.17235824 -0.7835749  -0.01534768\n",
      "  0.14620247  0.39669296  0.57380193 -0.04219769  0.09667885  0.71917117\n",
      "  0.09914877 -0.07002428 -0.6952917  -0.12327181  0.00698808  0.1130355\n",
      "  0.21762812 -0.14762747 -0.08550831  0.42892307 -0.38873935  0.11706272\n",
      "  0.08357348  0.33086827 -0.19929089 -0.488777   -0.88108635 -0.5050954\n",
      "  0.15333223  0.38169804 -0.24772073  0.3178539  -0.3129132  -0.25937322\n",
      "  0.02586848  0.34832904 -0.09738212  0.12646517 -0.25397405  0.27165747\n",
      " -0.3835589  -0.05835836 -0.5391562   0.35855582 -0.01555002  0.33905977\n",
      "  0.36701635 -0.5216254   0.38998955 -0.14258824  0.442821   -0.31062806\n",
      " -0.4667047   0.3733653  -0.13942048 -0.44589156 -0.12583877  0.39371407\n",
      "  0.03253892 -0.26815078 -0.18236625  0.17007475  0.32090932  0.2577683\n",
      "  0.53520334  0.7797119  -0.32646576  0.4073379  -0.39321616  0.15983558\n",
      " -0.03296329 -0.00581254 -0.5087508   0.13101153]\n"
     ]
    }
   ],
   "source": [
    "print(\"vector for 'kill':\")\n",
    "print(model.wv['kill'])"
   ]
  },
  {
   "cell_type": "markdown",
   "metadata": {},
   "source": [
    "**Test data 동일하게 전처리**"
   ]
  },
  {
   "cell_type": "code",
   "execution_count": 7,
   "metadata": {},
   "outputs": [],
   "source": [
    "import pandas as pd\n",
    "df_test= pd.read_csv('twitter_validation.csv')\n",
    "df_new_test= df_test[~df_test.iloc[:,2].isin(['Neutral', 'Irrelevant'])]"
   ]
  },
  {
   "cell_type": "code",
   "execution_count": 8,
   "metadata": {},
   "outputs": [
    {
     "name": "stdout",
     "output_type": "stream",
     "text": [
      "{'Negative', 'Positive'}\n"
     ]
    }
   ],
   "source": [
    "categories_test = df_new_test.iloc[:, 2].tolist()\n",
    "reviews_test= df_new_test.iloc[:, 3].tolist()\n",
    "reviews_test= [str(doc) if pd.notna(doc) else '' for doc in reviews_test]\n",
    "print(set(categories_test))"
   ]
  },
  {
   "cell_type": "code",
   "execution_count": 76,
   "metadata": {},
   "outputs": [
    {
     "data": {
      "text/plain": [
       "['microsoft', 'pay', 'word', 'functions', 'poorly', 'samsungus', 'chromebook']"
      ]
     },
     "execution_count": 76,
     "metadata": {},
     "output_type": "execute_result"
    }
   ],
   "source": [
    "cleaned_reviews_test = preprocess_reviews(reviews_test)\n",
    "cleaned_reviews_test[0]"
   ]
  },
  {
   "cell_type": "code",
   "execution_count": 10,
   "metadata": {},
   "outputs": [],
   "source": [
    "from gensim.models import Word2Vec\n",
    "embedding_dim = 100\n",
    "model_test = Word2Vec(cleaned_reviews_test, vector_size=embedding_dim, window=5, min_count=5, workers=4, sg=0)"
   ]
  },
  {
   "cell_type": "code",
   "execution_count": 11,
   "metadata": {},
   "outputs": [],
   "source": [
    "# 레이블 (Positive -> 1, Negative -> 0)로 변환\n",
    "labels = [1 if category == 'Positive' else 0 for category in categories]\n",
    "labels_test = [1 if category == 'Positive' else 0 for category in categories_test]"
   ]
  },
  {
   "cell_type": "markdown",
   "metadata": {},
   "source": [
    "**1. LSTM을 활용한 감성분석 모델링**"
   ]
  },
  {
   "cell_type": "markdown",
   "metadata": {},
   "source": [
    "데이터의 특성 파악\n",
    "\n",
    "(1) 리뷰의 길이: 히스토그램 결과 대부분 25~50 사이에 분포한다. 85째 백분위수를 구하니 20글자가 나왔다. \n",
    "\n",
    "validation data에서도 80째 백분위수로 20글자가 나왔다."
   ]
  },
  {
   "cell_type": "code",
   "execution_count": 12,
   "metadata": {},
   "outputs": [
    {
     "data": {
      "image/png": "[encoded data removed]",
      "text/plain": [
       "<Figure size 600x400 with 1 Axes>"
      ]
     },
     "metadata": {},
     "output_type": "display_data"
    }
   ],
   "source": [
    "import matplotlib.pyplot as plt\n",
    "review_lengths = [len(review) for review in cleaned_reviews]\n",
    "\n",
    "plt.figure(figsize=(6, 4))\n",
    "plt.hist(review_lengths, bins=7, color='lightblue', alpha=0.7, edgecolor='black')\n",
    "plt.title(\"Distribution of Review Lengths\")\n",
    "plt.xlabel(\"Length of Reviews (in words)\")\n",
    "plt.ylabel(\"Frequency\")\n",
    "plt.show()"
   ]
  },
  {
   "cell_type": "code",
   "execution_count": 29,
   "metadata": {},
   "outputs": [
    {
     "name": "stdout",
     "output_type": "stream",
     "text": [
      "20.0\n"
     ]
    }
   ],
   "source": [
    "import numpy as np\n",
    "# 리뷰 길이 리스트에서 85번째 백분위수 계산\n",
    "percentile_85 = np.percentile(review_lengths, 85)\n",
    "print(percentile_85)\n",
    "maxlen = int(percentile_85)"
   ]
  },
  {
   "cell_type": "code",
   "execution_count": 14,
   "metadata": {},
   "outputs": [
    {
     "data": {
      "image/png": "[encoded data removed]",
      "text/plain": [
       "<Figure size 600x400 with 1 Axes>"
      ]
     },
     "metadata": {},
     "output_type": "display_data"
    }
   ],
   "source": [
    "review_lengths_test = [len(review) for review in cleaned_reviews_test]\n",
    "\n",
    "plt.figure(figsize=(6, 4))\n",
    "plt.hist(review_lengths_test, bins=7, color='lightblue', alpha=0.7, edgecolor='black')\n",
    "plt.title(\"Distribution of Review Lengths\")\n",
    "plt.xlabel(\"Length of Reviews (in words)\")\n",
    "plt.ylabel(\"Frequency\")\n",
    "plt.show()"
   ]
  },
  {
   "cell_type": "code",
   "execution_count": 15,
   "metadata": {},
   "outputs": [
    {
     "name": "stdout",
     "output_type": "stream",
     "text": [
      "20.0\n"
     ]
    }
   ],
   "source": [
    "import numpy as np\n",
    "# 리뷰 길이 리스트에서 80번째 백분위수 계산\n",
    "percentile_80 = np.percentile(review_lengths_test, 80)\n",
    "print(percentile_80)"
   ]
  },
  {
   "cell_type": "markdown",
   "metadata": {},
   "source": [
    "20 글자로 제한해서 긴 리뷰에 의한 노이즈를 제거하고 훈련 속도를 개선한다."
   ]
  },
  {
   "cell_type": "markdown",
   "metadata": {},
   "source": [
    "**Keras는 단어를 정수로 처리하기 때문에, Word2Vec의 단어와 Keras 인덱스를 연결하는 작업이 필요함**\n",
    "\n",
    "ex) cleaned_reviews = [[\"the\", \"dog\", \"barked\"], [\"a\", \"cat\", \"meowed\"]]\n",
    "\n",
    "word_index = {\"the\": 1, \"dog\": 2, \"barked\": 3, \"a\": 4, \"cat\": 5, \"meowed\": 6}\n",
    "\n",
    "train_sequences = [[1, 2, 3], [4, 5, 6]]\n"
   ]
  },
  {
   "cell_type": "code",
   "execution_count": 80,
   "metadata": {},
   "outputs": [
    {
     "name": "stdout",
     "output_type": "stream",
     "text": [
      "{'game': 1, 'com': 2, 'like': 3, 'pic': 4, 'twitter': 5}\n"
     ]
    }
   ],
   "source": [
    "# 1. train data: 단어 -> idxing\n",
    "word_index = {word: i+1 for i, word in enumerate(model.wv.index_to_key)}\n",
    "vocab_size = len(word_index) + 1\n",
    "print(dict(list(word_index.items())[:5]))"
   ]
  },
  {
   "cell_type": "code",
   "execution_count": 81,
   "metadata": {},
   "outputs": [
    {
     "name": "stdout",
     "output_type": "stream",
     "text": [
      "{'com': 1, 'game': 2, 'twitter': 3, 'pic': 4, 'like': 5}\n"
     ]
    }
   ],
   "source": [
    "# 2. test data: 단어 -> idxing\n",
    "word_index_test = {word: i+1 for i, word in enumerate(model_test.wv.index_to_key)}\n",
    "vocab_size_test = len(word_index_test) + 1\n",
    "print(dict(list(word_index_test.items())[:5]))"
   ]
  },
  {
   "cell_type": "code",
   "execution_count": 35,
   "metadata": {},
   "outputs": [],
   "source": [
    "import numpy as np\n",
    "from tensorflow.keras.preprocessing.sequence import pad_sequences\n",
    "\n",
    "# 3. embedding matrix 생성\n",
    "# 1) train + test 합치기\n",
    "combined_vocab = set(word_index.keys()).union(set(word_index_test.keys()))\n",
    "vocab_size_combined = len(combined_vocab) + 1  # +1은 패딩\n",
    "word_index_combined = {word: i + 1 for i, word in enumerate(combined_vocab)}"
   ]
  },
  {
   "cell_type": "code",
   "execution_count": 57,
   "metadata": {},
   "outputs": [
    {
     "name": "stdout",
     "output_type": "stream",
     "text": [
      "Embedding matrix shape: (11049, 100)\n"
     ]
    }
   ],
   "source": [
    "# 2) embedding_matrix_combined 초기화\n",
    "embedding_matrix_combined = np.zeros((vocab_size_combined, embedding_dim))\n",
    "\n",
    "# 2-1) Train Word2Vec의 벡터를 embedding_matrix_combined에 추가\n",
    "for word, idx in word_index_combined.items():\n",
    "    if word in model.wv:  # Train Word2Vec에 존재하는 단어\n",
    "        embedding_matrix_combined[idx] = model.wv[word]\n",
    "\n",
    "# 2-2) Test Word2Vec의 벡터를 embedding_matrix_combined에 추가\n",
    "for word, idx in word_index_combined.items():\n",
    "    if word in model_test.wv and np.all(embedding_matrix_combined[idx] == 0):\n",
    "        embedding_matrix_combined[idx] = model_test.wv[word]\n",
    "\n",
    "# 확인\n",
    "print(f\"Embedding matrix shape: {embedding_matrix_combined.shape}\")"
   ]
  },
  {
   "cell_type": "code",
   "execution_count": null,
   "metadata": {},
   "outputs": [],
   "source": [
    "# 4. word_index_combined에 있는 단어들로만 구성되도록\n",
    "def text_to_sequence(texts, word_index_combined):\n",
    "    sequences = []\n",
    "    for text in texts:\n",
    "        seq = [word_index_combined[word] for word in text if word in word_index_combined]\n",
    "        sequences.append(seq)\n",
    "    return sequences\n",
    "\n",
    "# 4-1) Train과 Test 데이터 텍스트를 시퀀스로 변환\n",
    "train_sequences = text_to_sequence(cleaned_reviews, word_index_combined)\n",
    "test_sequences = text_to_sequence(cleaned_reviews_test, word_index_combined)\n",
    "\n",
    "# 5. seq->padding\n",
    "train_padded = pad_sequences(train_sequences, maxlen=maxlen, padding='post')\n",
    "test_padded = pad_sequences(test_sequences, maxlen=maxlen, padding='post')\n",
    "train_padded = np.array(train_padded, dtype=np.int32)  # 정수형 배열\n",
    "labels = np.array(labels, dtype=np.float32)           # 실수형 배열\n",
    "\n",
    "test_padded = np.array(test_padded, dtype=np.int32)  # 정수형 배열\n",
    "labels_test = np.array(labels_test, dtype=np.float32)  # 실수형 배열"
   ]
  },
  {
   "cell_type": "code",
   "execution_count": 51,
   "metadata": {},
   "outputs": [
    {
     "name": "stdout",
     "output_type": "stream",
     "text": [
      "Train padded shape: (43373, 20)\n",
      "Test padded shape: (543, 20)\n",
      "11049\n"
     ]
    }
   ],
   "source": [
    "# 확인\n",
    "print(f\"Train padded shape: {train_padded.shape}\")\n",
    "print(f\"Test padded shape: {test_padded.shape}\")\n",
    "\n",
    "vocab_size = len(embedding_matrix_combined)\n",
    "print(vocab_size)"
   ]
  },
  {
   "cell_type": "markdown",
   "metadata": {},
   "source": [
    "**2. model 생성**"
   ]
  },
  {
   "cell_type": "code",
   "execution_count": 52,
   "metadata": {},
   "outputs": [],
   "source": [
    "from tensorflow import keras\n",
    "from tensorflow.keras.models import Sequential\n",
    "from tensorflow.keras.layers import Embedding, LSTM, Dense\n",
    "\n",
    "lstm_model = Sequential()\n",
    "lstm_model.add(Embedding(\n",
    "    input_dim=vocab_size,  # 단어 집합 크기\n",
    "    output_dim=embedding_dim,  # 임베딩 벡터 크기\n",
    "    weights=[embedding_matrix_combined],  # 사전 학습된 임베딩 가중치\n",
    "    trainable=False,  # 임베딩 고정 (학습하지 않음)\n",
    "    mask_zero=True\n",
    "))\n",
    "\n",
    "lstm_model.add(keras.layers.LSTM(8, return_sequences=True, kernel_initializer='glorot_uniform' )) #과적합 시 dropout=0.3 해보기\n",
    "lstm_model.add(keras.layers.LSTM(8))\n",
    "lstm_model.add(keras.layers.Dense(1, activation='sigmoid'))"
   ]
  },
  {
   "cell_type": "code",
   "execution_count": 53,
   "metadata": {},
   "outputs": [],
   "source": [
    "from tensorflow.keras.optimizers import Adam\n",
    "optimizer = Adam(learning_rate=0.001)\n",
    "lstm_model.compile(optimizer=optimizer, loss='binary_crossentropy', metrics=['accuracy'])\n",
    "lstm_model.build(input_shape=(None, maxlen))"
   ]
  },
  {
   "cell_type": "code",
   "execution_count": 54,
   "metadata": {},
   "outputs": [
    {
     "data": {
      "text/html": [
       "<pre style=\"white-space:pre;overflow-x:auto;line-height:normal;font-family:Menlo,'DejaVu Sans Mono',consolas,'Courier New',monospace\"><span style=\"font-weight: bold\">Model: \"sequential_4\"</span>\n",
       "</pre>\n"
      ],
      "text/plain": [
       "\u001b[1mModel: \"sequential_4\"\u001b[0m\n"
      ]
     },
     "metadata": {},
     "output_type": "display_data"
    },
    {
     "data": {
      "text/html": [
       "<pre style=\"white-space:pre;overflow-x:auto;line-height:normal;font-family:Menlo,'DejaVu Sans Mono',consolas,'Courier New',monospace\">┏━━━━━━━━━━━━━━━━━━━━━━━━━━━━━━━━━┳━━━━━━━━━━━━━━━━━━━━━━━━┳━━━━━━━━━━━━━━━┓\n",
       "┃<span style=\"font-weight: bold\"> Layer (type)                    </span>┃<span style=\"font-weight: bold\"> Output Shape           </span>┃<span style=\"font-weight: bold\">       Param # </span>┃\n",
       "┡━━━━━━━━━━━━━━━━━━━━━━━━━━━━━━━━━╇━━━━━━━━━━━━━━━━━━━━━━━━╇━━━━━━━━━━━━━━━┩\n",
       "│ embedding_4 (<span style=\"color: #0087ff; text-decoration-color: #0087ff\">Embedding</span>)         │ (<span style=\"color: #00d7ff; text-decoration-color: #00d7ff\">None</span>, <span style=\"color: #00af00; text-decoration-color: #00af00\">20</span>, <span style=\"color: #00af00; text-decoration-color: #00af00\">100</span>)        │     <span style=\"color: #00af00; text-decoration-color: #00af00\">1,104,900</span> │\n",
       "├─────────────────────────────────┼────────────────────────┼───────────────┤\n",
       "│ lstm_6 (<span style=\"color: #0087ff; text-decoration-color: #0087ff\">LSTM</span>)                   │ (<span style=\"color: #00d7ff; text-decoration-color: #00d7ff\">None</span>, <span style=\"color: #00af00; text-decoration-color: #00af00\">20</span>, <span style=\"color: #00af00; text-decoration-color: #00af00\">8</span>)          │         <span style=\"color: #00af00; text-decoration-color: #00af00\">3,488</span> │\n",
       "├─────────────────────────────────┼────────────────────────┼───────────────┤\n",
       "│ lstm_7 (<span style=\"color: #0087ff; text-decoration-color: #0087ff\">LSTM</span>)                   │ (<span style=\"color: #00d7ff; text-decoration-color: #00d7ff\">None</span>, <span style=\"color: #00af00; text-decoration-color: #00af00\">8</span>)              │           <span style=\"color: #00af00; text-decoration-color: #00af00\">544</span> │\n",
       "├─────────────────────────────────┼────────────────────────┼───────────────┤\n",
       "│ dense_3 (<span style=\"color: #0087ff; text-decoration-color: #0087ff\">Dense</span>)                 │ (<span style=\"color: #00d7ff; text-decoration-color: #00d7ff\">None</span>, <span style=\"color: #00af00; text-decoration-color: #00af00\">1</span>)              │             <span style=\"color: #00af00; text-decoration-color: #00af00\">9</span> │\n",
       "└─────────────────────────────────┴────────────────────────┴───────────────┘\n",
       "</pre>\n"
      ],
      "text/plain": [
       "┏━━━━━━━━━━━━━━━━━━━━━━━━━━━━━━━━━┳━━━━━━━━━━━━━━━━━━━━━━━━┳━━━━━━━━━━━━━━━┓\n",
       "┃\u001b[1m \u001b[0m\u001b[1mLayer (type)                   \u001b[0m\u001b[1m \u001b[0m┃\u001b[1m \u001b[0m\u001b[1mOutput Shape          \u001b[0m\u001b[1m \u001b[0m┃\u001b[1m \u001b[0m\u001b[1m      Param #\u001b[0m\u001b[1m \u001b[0m┃\n",
       "┡━━━━━━━━━━━━━━━━━━━━━━━━━━━━━━━━━╇━━━━━━━━━━━━━━━━━━━━━━━━╇━━━━━━━━━━━━━━━┩\n",
       "│ embedding_4 (\u001b[38;5;33mEmbedding\u001b[0m)         │ (\u001b[38;5;45mNone\u001b[0m, \u001b[38;5;34m20\u001b[0m, \u001b[38;5;34m100\u001b[0m)        │     \u001b[38;5;34m1,104,900\u001b[0m │\n",
       "├─────────────────────────────────┼────────────────────────┼───────────────┤\n",
       "│ lstm_6 (\u001b[38;5;33mLSTM\u001b[0m)                   │ (\u001b[38;5;45mNone\u001b[0m, \u001b[38;5;34m20\u001b[0m, \u001b[38;5;34m8\u001b[0m)          │         \u001b[38;5;34m3,488\u001b[0m │\n",
       "├─────────────────────────────────┼────────────────────────┼───────────────┤\n",
       "│ lstm_7 (\u001b[38;5;33mLSTM\u001b[0m)                   │ (\u001b[38;5;45mNone\u001b[0m, \u001b[38;5;34m8\u001b[0m)              │           \u001b[38;5;34m544\u001b[0m │\n",
       "├─────────────────────────────────┼────────────────────────┼───────────────┤\n",
       "│ dense_3 (\u001b[38;5;33mDense\u001b[0m)                 │ (\u001b[38;5;45mNone\u001b[0m, \u001b[38;5;34m1\u001b[0m)              │             \u001b[38;5;34m9\u001b[0m │\n",
       "└─────────────────────────────────┴────────────────────────┴───────────────┘\n"
      ]
     },
     "metadata": {},
     "output_type": "display_data"
    },
    {
     "data": {
      "text/html": [
       "<pre style=\"white-space:pre;overflow-x:auto;line-height:normal;font-family:Menlo,'DejaVu Sans Mono',consolas,'Courier New',monospace\"><span style=\"font-weight: bold\"> Total params: </span><span style=\"color: #00af00; text-decoration-color: #00af00\">1,108,941</span> (4.23 MB)\n",
       "</pre>\n"
      ],
      "text/plain": [
       "\u001b[1m Total params: \u001b[0m\u001b[38;5;34m1,108,941\u001b[0m (4.23 MB)\n"
      ]
     },
     "metadata": {},
     "output_type": "display_data"
    },
    {
     "data": {
      "text/html": [
       "<pre style=\"white-space:pre;overflow-x:auto;line-height:normal;font-family:Menlo,'DejaVu Sans Mono',consolas,'Courier New',monospace\"><span style=\"font-weight: bold\"> Trainable params: </span><span style=\"color: #00af00; text-decoration-color: #00af00\">4,041</span> (15.79 KB)\n",
       "</pre>\n"
      ],
      "text/plain": [
       "\u001b[1m Trainable params: \u001b[0m\u001b[38;5;34m4,041\u001b[0m (15.79 KB)\n"
      ]
     },
     "metadata": {},
     "output_type": "display_data"
    },
    {
     "data": {
      "text/html": [
       "<pre style=\"white-space:pre;overflow-x:auto;line-height:normal;font-family:Menlo,'DejaVu Sans Mono',consolas,'Courier New',monospace\"><span style=\"font-weight: bold\"> Non-trainable params: </span><span style=\"color: #00af00; text-decoration-color: #00af00\">1,104,900</span> (4.21 MB)\n",
       "</pre>\n"
      ],
      "text/plain": [
       "\u001b[1m Non-trainable params: \u001b[0m\u001b[38;5;34m1,104,900\u001b[0m (4.21 MB)\n"
      ]
     },
     "metadata": {},
     "output_type": "display_data"
    }
   ],
   "source": [
    "lstm_model.summary()"
   ]
  },
  {
   "cell_type": "markdown",
   "metadata": {},
   "source": [
    "embedding_dim으로 작은 데이터 셋은 50~100, 중간 데이터 셋은 100~200, 대규모 데이터 셋은 200~300이 적당하다."
   ]
  },
  {
   "cell_type": "markdown",
   "metadata": {},
   "source": [
    "**3. 성능 평가**\n",
    "\n",
    "2개 이상의 모델 Hyper Parameter 조합에 따른 모델 성능 평가 및 분석"
   ]
  },
  {
   "cell_type": "code",
   "execution_count": 55,
   "metadata": {},
   "outputs": [
    {
     "name": "stdout",
     "output_type": "stream",
     "text": [
      "Epoch 1/100\n",
      "\u001b[1m678/678\u001b[0m \u001b[32m━━━━━━━━━━━━━━━━━━━━\u001b[0m\u001b[37m\u001b[0m \u001b[1m11s\u001b[0m 10ms/step - accuracy: 0.6989 - loss: 0.5771 - val_accuracy: 0.7956 - val_loss: 0.4675\n",
      "Epoch 2/100\n",
      "\u001b[1m678/678\u001b[0m \u001b[32m━━━━━━━━━━━━━━━━━━━━\u001b[0m\u001b[37m\u001b[0m \u001b[1m6s\u001b[0m 9ms/step - accuracy: 0.7627 - loss: 0.4915 - val_accuracy: 0.8085 - val_loss: 0.4434\n",
      "Epoch 3/100\n",
      "\u001b[1m678/678\u001b[0m \u001b[32m━━━━━━━━━━━━━━━━━━━━\u001b[0m\u001b[37m\u001b[0m \u001b[1m6s\u001b[0m 9ms/step - accuracy: 0.7692 - loss: 0.4725 - val_accuracy: 0.8140 - val_loss: 0.4209\n",
      "Epoch 4/100\n",
      "\u001b[1m678/678\u001b[0m \u001b[32m━━━━━━━━━━━━━━━━━━━━\u001b[0m\u001b[37m\u001b[0m \u001b[1m6s\u001b[0m 9ms/step - accuracy: 0.7734 - loss: 0.4669 - val_accuracy: 0.7901 - val_loss: 0.4265\n",
      "Epoch 5/100\n",
      "\u001b[1m678/678\u001b[0m \u001b[32m━━━━━━━━━━━━━━━━━━━━\u001b[0m\u001b[37m\u001b[0m \u001b[1m7s\u001b[0m 10ms/step - accuracy: 0.7746 - loss: 0.4580 - val_accuracy: 0.8011 - val_loss: 0.4144\n",
      "Epoch 6/100\n",
      "\u001b[1m678/678\u001b[0m \u001b[32m━━━━━━━━━━━━━━━━━━━━\u001b[0m\u001b[37m\u001b[0m \u001b[1m7s\u001b[0m 11ms/step - accuracy: 0.7791 - loss: 0.4543 - val_accuracy: 0.8103 - val_loss: 0.3988\n",
      "Epoch 7/100\n",
      "\u001b[1m678/678\u001b[0m \u001b[32m━━━━━━━━━━━━━━━━━━━━\u001b[0m\u001b[37m\u001b[0m \u001b[1m7s\u001b[0m 11ms/step - accuracy: 0.7873 - loss: 0.4427 - val_accuracy: 0.8269 - val_loss: 0.3985\n",
      "Epoch 8/100\n",
      "\u001b[1m678/678\u001b[0m \u001b[32m━━━━━━━━━━━━━━━━━━━━\u001b[0m\u001b[37m\u001b[0m \u001b[1m7s\u001b[0m 11ms/step - accuracy: 0.7827 - loss: 0.4458 - val_accuracy: 0.8177 - val_loss: 0.3939\n",
      "Epoch 9/100\n",
      "\u001b[1m678/678\u001b[0m \u001b[32m━━━━━━━━━━━━━━━━━━━━\u001b[0m\u001b[37m\u001b[0m \u001b[1m7s\u001b[0m 11ms/step - accuracy: 0.7901 - loss: 0.4411 - val_accuracy: 0.8250 - val_loss: 0.3837\n",
      "Epoch 10/100\n",
      "\u001b[1m678/678\u001b[0m \u001b[32m━━━━━━━━━━━━━━━━━━━━\u001b[0m\u001b[37m\u001b[0m \u001b[1m7s\u001b[0m 10ms/step - accuracy: 0.7897 - loss: 0.4323 - val_accuracy: 0.8287 - val_loss: 0.3831\n",
      "Epoch 11/100\n",
      "\u001b[1m678/678\u001b[0m \u001b[32m━━━━━━━━━━━━━━━━━━━━\u001b[0m\u001b[37m\u001b[0m \u001b[1m7s\u001b[0m 10ms/step - accuracy: 0.7945 - loss: 0.4305 - val_accuracy: 0.8250 - val_loss: 0.3825\n",
      "Epoch 12/100\n",
      "\u001b[1m678/678\u001b[0m \u001b[32m━━━━━━━━━━━━━━━━━━━━\u001b[0m\u001b[37m\u001b[0m \u001b[1m7s\u001b[0m 11ms/step - accuracy: 0.7925 - loss: 0.4289 - val_accuracy: 0.8232 - val_loss: 0.3752\n",
      "Epoch 13/100\n",
      "\u001b[1m678/678\u001b[0m \u001b[32m━━━━━━━━━━━━━━━━━━━━\u001b[0m\u001b[37m\u001b[0m \u001b[1m7s\u001b[0m 10ms/step - accuracy: 0.7990 - loss: 0.4194 - val_accuracy: 0.8250 - val_loss: 0.3715\n",
      "Epoch 14/100\n",
      "\u001b[1m678/678\u001b[0m \u001b[32m━━━━━━━━━━━━━━━━━━━━\u001b[0m\u001b[37m\u001b[0m \u001b[1m7s\u001b[0m 10ms/step - accuracy: 0.7993 - loss: 0.4196 - val_accuracy: 0.8214 - val_loss: 0.4024\n",
      "Epoch 15/100\n",
      "\u001b[1m678/678\u001b[0m \u001b[32m━━━━━━━━━━━━━━━━━━━━\u001b[0m\u001b[37m\u001b[0m \u001b[1m7s\u001b[0m 11ms/step - accuracy: 0.7946 - loss: 0.4242 - val_accuracy: 0.8177 - val_loss: 0.3693\n",
      "Epoch 16/100\n",
      "\u001b[1m678/678\u001b[0m \u001b[32m━━━━━━━━━━━━━━━━━━━━\u001b[0m\u001b[37m\u001b[0m \u001b[1m7s\u001b[0m 11ms/step - accuracy: 0.7995 - loss: 0.4198 - val_accuracy: 0.8324 - val_loss: 0.3638\n",
      "Epoch 17/100\n",
      "\u001b[1m678/678\u001b[0m \u001b[32m━━━━━━━━━━━━━━━━━━━━\u001b[0m\u001b[37m\u001b[0m \u001b[1m7s\u001b[0m 11ms/step - accuracy: 0.8024 - loss: 0.4124 - val_accuracy: 0.8453 - val_loss: 0.3650\n",
      "Epoch 18/100\n",
      "\u001b[1m678/678\u001b[0m \u001b[32m━━━━━━━━━━━━━━━━━━━━\u001b[0m\u001b[37m\u001b[0m \u001b[1m7s\u001b[0m 10ms/step - accuracy: 0.8057 - loss: 0.4083 - val_accuracy: 0.8306 - val_loss: 0.3650\n",
      "Epoch 19/100\n",
      "\u001b[1m678/678\u001b[0m \u001b[32m━━━━━━━━━━━━━━━━━━━━\u001b[0m\u001b[37m\u001b[0m \u001b[1m7s\u001b[0m 10ms/step - accuracy: 0.8043 - loss: 0.4112 - val_accuracy: 0.8214 - val_loss: 0.3885\n",
      "Epoch 20/100\n",
      "\u001b[1m678/678\u001b[0m \u001b[32m━━━━━━━━━━━━━━━━━━━━\u001b[0m\u001b[37m\u001b[0m \u001b[1m7s\u001b[0m 11ms/step - accuracy: 0.8014 - loss: 0.4117 - val_accuracy: 0.8287 - val_loss: 0.3665\n",
      "Epoch 21/100\n",
      "\u001b[1m678/678\u001b[0m \u001b[32m━━━━━━━━━━━━━━━━━━━━\u001b[0m\u001b[37m\u001b[0m \u001b[1m7s\u001b[0m 11ms/step - accuracy: 0.8034 - loss: 0.4092 - val_accuracy: 0.8416 - val_loss: 0.3578\n",
      "Epoch 22/100\n",
      "\u001b[1m678/678\u001b[0m \u001b[32m━━━━━━━━━━━━━━━━━━━━\u001b[0m\u001b[37m\u001b[0m \u001b[1m7s\u001b[0m 11ms/step - accuracy: 0.8038 - loss: 0.4067 - val_accuracy: 0.8250 - val_loss: 0.3630\n",
      "Epoch 23/100\n",
      "\u001b[1m678/678\u001b[0m \u001b[32m━━━━━━━━━━━━━━━━━━━━\u001b[0m\u001b[37m\u001b[0m \u001b[1m8s\u001b[0m 11ms/step - accuracy: 0.8087 - loss: 0.4068 - val_accuracy: 0.8250 - val_loss: 0.3669\n",
      "Epoch 24/100\n",
      "\u001b[1m678/678\u001b[0m \u001b[32m━━━━━━━━━━━━━━━━━━━━\u001b[0m\u001b[37m\u001b[0m \u001b[1m8s\u001b[0m 11ms/step - accuracy: 0.8060 - loss: 0.4068 - val_accuracy: 0.8343 - val_loss: 0.3533\n",
      "Epoch 25/100\n",
      "\u001b[1m678/678\u001b[0m \u001b[32m━━━━━━━━━━━━━━━━━━━━\u001b[0m\u001b[37m\u001b[0m \u001b[1m7s\u001b[0m 10ms/step - accuracy: 0.8066 - loss: 0.4051 - val_accuracy: 0.8398 - val_loss: 0.3519\n",
      "Epoch 26/100\n",
      "\u001b[1m678/678\u001b[0m \u001b[32m━━━━━━━━━━━━━━━━━━━━\u001b[0m\u001b[37m\u001b[0m \u001b[1m7s\u001b[0m 11ms/step - accuracy: 0.8079 - loss: 0.4020 - val_accuracy: 0.8416 - val_loss: 0.3532\n",
      "Epoch 27/100\n",
      "\u001b[1m678/678\u001b[0m \u001b[32m━━━━━━━━━━━━━━━━━━━━\u001b[0m\u001b[37m\u001b[0m \u001b[1m9s\u001b[0m 13ms/step - accuracy: 0.8102 - loss: 0.3992 - val_accuracy: 0.8287 - val_loss: 0.3755\n",
      "Epoch 28/100\n",
      "\u001b[1m678/678\u001b[0m \u001b[32m━━━━━━━━━━━━━━━━━━━━\u001b[0m\u001b[37m\u001b[0m \u001b[1m8s\u001b[0m 11ms/step - accuracy: 0.8115 - loss: 0.3985 - val_accuracy: 0.8435 - val_loss: 0.3442\n",
      "Epoch 29/100\n",
      "\u001b[1m678/678\u001b[0m \u001b[32m━━━━━━━━━━━━━━━━━━━━\u001b[0m\u001b[37m\u001b[0m \u001b[1m7s\u001b[0m 11ms/step - accuracy: 0.8103 - loss: 0.3966 - val_accuracy: 0.8471 - val_loss: 0.3504\n",
      "Epoch 30/100\n",
      "\u001b[1m678/678\u001b[0m \u001b[32m━━━━━━━━━━━━━━━━━━━━\u001b[0m\u001b[37m\u001b[0m \u001b[1m7s\u001b[0m 11ms/step - accuracy: 0.8120 - loss: 0.3961 - val_accuracy: 0.8379 - val_loss: 0.3416\n",
      "Epoch 31/100\n",
      "\u001b[1m678/678\u001b[0m \u001b[32m━━━━━━━━━━━━━━━━━━━━\u001b[0m\u001b[37m\u001b[0m \u001b[1m7s\u001b[0m 11ms/step - accuracy: 0.8093 - loss: 0.3944 - val_accuracy: 0.8416 - val_loss: 0.3349\n",
      "Epoch 32/100\n",
      "\u001b[1m678/678\u001b[0m \u001b[32m━━━━━━━━━━━━━━━━━━━━\u001b[0m\u001b[37m\u001b[0m \u001b[1m8s\u001b[0m 11ms/step - accuracy: 0.8101 - loss: 0.3967 - val_accuracy: 0.8379 - val_loss: 0.3417\n",
      "Epoch 33/100\n",
      "\u001b[1m678/678\u001b[0m \u001b[32m━━━━━━━━━━━━━━━━━━━━\u001b[0m\u001b[37m\u001b[0m \u001b[1m7s\u001b[0m 11ms/step - accuracy: 0.8148 - loss: 0.3910 - val_accuracy: 0.8435 - val_loss: 0.3472\n",
      "Epoch 34/100\n",
      "\u001b[1m678/678\u001b[0m \u001b[32m━━━━━━━━━━━━━━━━━━━━\u001b[0m\u001b[37m\u001b[0m \u001b[1m8s\u001b[0m 11ms/step - accuracy: 0.8145 - loss: 0.3924 - val_accuracy: 0.8435 - val_loss: 0.3344\n",
      "Epoch 35/100\n",
      "\u001b[1m678/678\u001b[0m \u001b[32m━━━━━━━━━━━━━━━━━━━━\u001b[0m\u001b[37m\u001b[0m \u001b[1m8s\u001b[0m 11ms/step - accuracy: 0.8185 - loss: 0.3860 - val_accuracy: 0.8398 - val_loss: 0.3422\n",
      "Epoch 36/100\n",
      "\u001b[1m678/678\u001b[0m \u001b[32m━━━━━━━━━━━━━━━━━━━━\u001b[0m\u001b[37m\u001b[0m \u001b[1m7s\u001b[0m 11ms/step - accuracy: 0.8161 - loss: 0.3887 - val_accuracy: 0.8545 - val_loss: 0.3301\n",
      "Epoch 37/100\n",
      "\u001b[1m678/678\u001b[0m \u001b[32m━━━━━━━━━━━━━━━━━━━━\u001b[0m\u001b[37m\u001b[0m \u001b[1m7s\u001b[0m 11ms/step - accuracy: 0.8160 - loss: 0.3859 - val_accuracy: 0.8490 - val_loss: 0.3362\n",
      "Epoch 38/100\n",
      "\u001b[1m678/678\u001b[0m \u001b[32m━━━━━━━━━━━━━━━━━━━━\u001b[0m\u001b[37m\u001b[0m \u001b[1m7s\u001b[0m 11ms/step - accuracy: 0.8187 - loss: 0.3815 - val_accuracy: 0.8490 - val_loss: 0.3338\n",
      "Epoch 39/100\n",
      "\u001b[1m678/678\u001b[0m \u001b[32m━━━━━━━━━━━━━━━━━━━━\u001b[0m\u001b[37m\u001b[0m \u001b[1m7s\u001b[0m 11ms/step - accuracy: 0.8175 - loss: 0.3859 - val_accuracy: 0.8453 - val_loss: 0.3446\n",
      "Epoch 40/100\n",
      "\u001b[1m678/678\u001b[0m \u001b[32m━━━━━━━━━━━━━━━━━━━━\u001b[0m\u001b[37m\u001b[0m \u001b[1m7s\u001b[0m 11ms/step - accuracy: 0.8194 - loss: 0.3806 - val_accuracy: 0.8619 - val_loss: 0.3296\n",
      "Epoch 41/100\n",
      "\u001b[1m678/678\u001b[0m \u001b[32m━━━━━━━━━━━━━━━━━━━━\u001b[0m\u001b[37m\u001b[0m \u001b[1m7s\u001b[0m 11ms/step - accuracy: 0.8241 - loss: 0.3779 - val_accuracy: 0.8582 - val_loss: 0.3236\n",
      "Epoch 42/100\n",
      "\u001b[1m678/678\u001b[0m \u001b[32m━━━━━━━━━━━━━━━━━━━━\u001b[0m\u001b[37m\u001b[0m \u001b[1m7s\u001b[0m 11ms/step - accuracy: 0.8203 - loss: 0.3882 - val_accuracy: 0.8471 - val_loss: 0.3283\n",
      "Epoch 43/100\n",
      "\u001b[1m678/678\u001b[0m \u001b[32m━━━━━━━━━━━━━━━━━━━━\u001b[0m\u001b[37m\u001b[0m \u001b[1m7s\u001b[0m 11ms/step - accuracy: 0.8202 - loss: 0.3835 - val_accuracy: 0.8435 - val_loss: 0.3233\n",
      "Epoch 44/100\n",
      "\u001b[1m678/678\u001b[0m \u001b[32m━━━━━━━━━━━━━━━━━━━━\u001b[0m\u001b[37m\u001b[0m \u001b[1m7s\u001b[0m 11ms/step - accuracy: 0.8200 - loss: 0.3828 - val_accuracy: 0.8545 - val_loss: 0.3199\n",
      "Epoch 45/100\n",
      "\u001b[1m678/678\u001b[0m \u001b[32m━━━━━━━━━━━━━━━━━━━━\u001b[0m\u001b[37m\u001b[0m \u001b[1m7s\u001b[0m 11ms/step - accuracy: 0.8205 - loss: 0.3754 - val_accuracy: 0.8490 - val_loss: 0.3525\n",
      "Epoch 46/100\n",
      "\u001b[1m678/678\u001b[0m \u001b[32m━━━━━━━━━━━━━━━━━━━━\u001b[0m\u001b[37m\u001b[0m \u001b[1m7s\u001b[0m 11ms/step - accuracy: 0.8225 - loss: 0.3772 - val_accuracy: 0.8508 - val_loss: 0.3462\n",
      "Epoch 47/100\n",
      "\u001b[1m678/678\u001b[0m \u001b[32m━━━━━━━━━━━━━━━━━━━━\u001b[0m\u001b[37m\u001b[0m \u001b[1m9s\u001b[0m 9ms/step - accuracy: 0.8232 - loss: 0.3744 - val_accuracy: 0.8600 - val_loss: 0.3217\n",
      "Epoch 48/100\n",
      "\u001b[1m678/678\u001b[0m \u001b[32m━━━━━━━━━━━━━━━━━━━━\u001b[0m\u001b[37m\u001b[0m \u001b[1m7s\u001b[0m 10ms/step - accuracy: 0.8229 - loss: 0.3755 - val_accuracy: 0.8600 - val_loss: 0.3201\n",
      "Epoch 49/100\n",
      "\u001b[1m678/678\u001b[0m \u001b[32m━━━━━━━━━━━━━━━━━━━━\u001b[0m\u001b[37m\u001b[0m \u001b[1m7s\u001b[0m 11ms/step - accuracy: 0.8241 - loss: 0.3729 - val_accuracy: 0.8471 - val_loss: 0.3296\n",
      "Epoch 50/100\n",
      "\u001b[1m678/678\u001b[0m \u001b[32m━━━━━━━━━━━━━━━━━━━━\u001b[0m\u001b[37m\u001b[0m \u001b[1m7s\u001b[0m 11ms/step - accuracy: 0.8201 - loss: 0.3782 - val_accuracy: 0.8508 - val_loss: 0.3263\n",
      "Epoch 51/100\n",
      "\u001b[1m678/678\u001b[0m \u001b[32m━━━━━━━━━━━━━━━━━━━━\u001b[0m\u001b[37m\u001b[0m \u001b[1m7s\u001b[0m 11ms/step - accuracy: 0.8225 - loss: 0.3709 - val_accuracy: 0.8582 - val_loss: 0.3262\n",
      "Epoch 52/100\n",
      "\u001b[1m678/678\u001b[0m \u001b[32m━━━━━━━━━━━━━━━━━━━━\u001b[0m\u001b[37m\u001b[0m \u001b[1m8s\u001b[0m 12ms/step - accuracy: 0.8244 - loss: 0.3703 - val_accuracy: 0.8527 - val_loss: 0.3382\n",
      "Epoch 53/100\n",
      "\u001b[1m678/678\u001b[0m \u001b[32m━━━━━━━━━━━━━━━━━━━━\u001b[0m\u001b[37m\u001b[0m \u001b[1m278s\u001b[0m 410ms/step - accuracy: 0.8215 - loss: 0.3721 - val_accuracy: 0.8637 - val_loss: 0.3228\n",
      "Epoch 54/100\n",
      "\u001b[1m678/678\u001b[0m \u001b[32m━━━━━━━━━━━━━━━━━━━━\u001b[0m\u001b[37m\u001b[0m \u001b[1m7s\u001b[0m 10ms/step - accuracy: 0.8262 - loss: 0.3718 - val_accuracy: 0.8490 - val_loss: 0.3364\n"
     ]
    }
   ],
   "source": [
    "checkpoint_cb = keras.callbacks.ModelCheckpoint('lstm_model.keras', save_best_only=True)\n",
    "early_stopping_cb = keras.callbacks.EarlyStopping(patience=10, restore_best_weights=True)\n",
    "history= lstm_model.fit(train_padded, labels, epochs=100, batch_size = 64,callbacks=[checkpoint_cb, early_stopping_cb], \\\n",
    "                       validation_data=(test_padded, labels_test))"
   ]
  },
  {
   "cell_type": "code",
   "execution_count": 56,
   "metadata": {},
   "outputs": [
    {
     "data": {
      "image/png": "[encoded data removed]",
      "text/plain": [
       "<Figure size 640x480 with 1 Axes>"
      ]
     },
     "metadata": {},
     "output_type": "display_data"
    }
   ],
   "source": [
    "import matplotlib.pyplot as plt\n",
    "plt.plot(history.history['loss'])\n",
    "plt.plot(history.history['val_loss'])\n",
    "plt.xlabel('epoch')\n",
    "plt.ylabel('loss')\n",
    "plt.legend(['train', 'val'])\n",
    "plt.show()"
   ]
  },
  {
   "cell_type": "markdown",
   "metadata": {},
   "source": [
    "validation data의 loss와 test data의 loss 차이가 크지 않으며, 두 값이 비슷한 형태로 감소한다. \n",
    "\n",
    "모델이 과적합되지 않고 적절히 일반화 된 것을 볼 수 있다. 이는 embedding matrix로 인한 효과로 보인다."
   ]
  },
  {
   "cell_type": "markdown",
   "metadata": {},
   "source": [
    "**(2) LSTM(8) -> LSTM(64)로 변경하여 LSTM 레이어의 출력 차원을 바꾼다. dropout=0.3으로 과적합 방지**\n",
    "\n",
    "이를 통해 더 많은 정보를 학습할 수 있다. 최적값에 더 가깝게 도달하도록 Adam의 learning_rate는 0.001로 변경 없이 유지한다.\n",
    "\n",
    "epoch는 50, batch size는 32로 감소해 과적합을 피하고 훈련 속도를 조절한다.\n",
    "\n",
    "dropout=0.3으로 과적합을 막는다."
   ]
  },
  {
   "cell_type": "code",
   "execution_count": null,
   "metadata": {},
   "outputs": [],
   "source": [
    "from tensorflow import keras\n",
    "from tensorflow.keras.models import Sequential\n",
    "from tensorflow.keras.layers import Embedding, LSTM, Dense\n",
    "\n",
    "lstm_model = Sequential()\n",
    "lstm_model.add(Embedding(\n",
    "    input_dim=vocab_size,  # 단어 집합 크기\n",
    "    output_dim=embedding_dim,  # 임베딩 벡터 크기\n",
    "    weights=[embedding_matrix_combined],  # 사전 학습된 임베딩 가중치\n",
    "    trainable=False,  # 임베딩 고정 (학습하지 않음)\n",
    "    mask_zero=True\n",
    "))\n",
    "\n",
    "lstm_model.add(keras.layers.LSTM(64, return_sequences=True, dropout=0.3, kernel_initializer='glorot_uniform' )) #과적합 시 dropout\n",
    "lstm_model.add(keras.layers.LSTM(64))\n",
    "lstm_model.add(keras.layers.Dense(1, activation='sigmoid'))"
   ]
  },
  {
   "cell_type": "code",
   "execution_count": 71,
   "metadata": {},
   "outputs": [
    {
     "data": {
      "text/html": [
       "<pre style=\"white-space:pre;overflow-x:auto;line-height:normal;font-family:Menlo,'DejaVu Sans Mono',consolas,'Courier New',monospace\"><span style=\"font-weight: bold\">Model: \"sequential_7\"</span>\n",
       "</pre>\n"
      ],
      "text/plain": [
       "\u001b[1mModel: \"sequential_7\"\u001b[0m\n"
      ]
     },
     "metadata": {},
     "output_type": "display_data"
    },
    {
     "data": {
      "text/html": [
       "<pre style=\"white-space:pre;overflow-x:auto;line-height:normal;font-family:Menlo,'DejaVu Sans Mono',consolas,'Courier New',monospace\">┏━━━━━━━━━━━━━━━━━━━━━━━━━━━━━━━━━┳━━━━━━━━━━━━━━━━━━━━━━━━┳━━━━━━━━━━━━━━━┓\n",
       "┃<span style=\"font-weight: bold\"> Layer (type)                    </span>┃<span style=\"font-weight: bold\"> Output Shape           </span>┃<span style=\"font-weight: bold\">       Param # </span>┃\n",
       "┡━━━━━━━━━━━━━━━━━━━━━━━━━━━━━━━━━╇━━━━━━━━━━━━━━━━━━━━━━━━╇━━━━━━━━━━━━━━━┩\n",
       "│ embedding_7 (<span style=\"color: #0087ff; text-decoration-color: #0087ff\">Embedding</span>)         │ (<span style=\"color: #00d7ff; text-decoration-color: #00d7ff\">None</span>, <span style=\"color: #00af00; text-decoration-color: #00af00\">20</span>, <span style=\"color: #00af00; text-decoration-color: #00af00\">100</span>)        │     <span style=\"color: #00af00; text-decoration-color: #00af00\">1,104,900</span> │\n",
       "├─────────────────────────────────┼────────────────────────┼───────────────┤\n",
       "│ lstm_12 (<span style=\"color: #0087ff; text-decoration-color: #0087ff\">LSTM</span>)                  │ (<span style=\"color: #00d7ff; text-decoration-color: #00d7ff\">None</span>, <span style=\"color: #00af00; text-decoration-color: #00af00\">20</span>, <span style=\"color: #00af00; text-decoration-color: #00af00\">64</span>)         │        <span style=\"color: #00af00; text-decoration-color: #00af00\">42,240</span> │\n",
       "├─────────────────────────────────┼────────────────────────┼───────────────┤\n",
       "│ lstm_13 (<span style=\"color: #0087ff; text-decoration-color: #0087ff\">LSTM</span>)                  │ (<span style=\"color: #00d7ff; text-decoration-color: #00d7ff\">None</span>, <span style=\"color: #00af00; text-decoration-color: #00af00\">64</span>)             │        <span style=\"color: #00af00; text-decoration-color: #00af00\">33,024</span> │\n",
       "├─────────────────────────────────┼────────────────────────┼───────────────┤\n",
       "│ dense_6 (<span style=\"color: #0087ff; text-decoration-color: #0087ff\">Dense</span>)                 │ (<span style=\"color: #00d7ff; text-decoration-color: #00d7ff\">None</span>, <span style=\"color: #00af00; text-decoration-color: #00af00\">1</span>)              │            <span style=\"color: #00af00; text-decoration-color: #00af00\">65</span> │\n",
       "└─────────────────────────────────┴────────────────────────┴───────────────┘\n",
       "</pre>\n"
      ],
      "text/plain": [
       "┏━━━━━━━━━━━━━━━━━━━━━━━━━━━━━━━━━┳━━━━━━━━━━━━━━━━━━━━━━━━┳━━━━━━━━━━━━━━━┓\n",
       "┃\u001b[1m \u001b[0m\u001b[1mLayer (type)                   \u001b[0m\u001b[1m \u001b[0m┃\u001b[1m \u001b[0m\u001b[1mOutput Shape          \u001b[0m\u001b[1m \u001b[0m┃\u001b[1m \u001b[0m\u001b[1m      Param #\u001b[0m\u001b[1m \u001b[0m┃\n",
       "┡━━━━━━━━━━━━━━━━━━━━━━━━━━━━━━━━━╇━━━━━━━━━━━━━━━━━━━━━━━━╇━━━━━━━━━━━━━━━┩\n",
       "│ embedding_7 (\u001b[38;5;33mEmbedding\u001b[0m)         │ (\u001b[38;5;45mNone\u001b[0m, \u001b[38;5;34m20\u001b[0m, \u001b[38;5;34m100\u001b[0m)        │     \u001b[38;5;34m1,104,900\u001b[0m │\n",
       "├─────────────────────────────────┼────────────────────────┼───────────────┤\n",
       "│ lstm_12 (\u001b[38;5;33mLSTM\u001b[0m)                  │ (\u001b[38;5;45mNone\u001b[0m, \u001b[38;5;34m20\u001b[0m, \u001b[38;5;34m64\u001b[0m)         │        \u001b[38;5;34m42,240\u001b[0m │\n",
       "├─────────────────────────────────┼────────────────────────┼───────────────┤\n",
       "│ lstm_13 (\u001b[38;5;33mLSTM\u001b[0m)                  │ (\u001b[38;5;45mNone\u001b[0m, \u001b[38;5;34m64\u001b[0m)             │        \u001b[38;5;34m33,024\u001b[0m │\n",
       "├─────────────────────────────────┼────────────────────────┼───────────────┤\n",
       "│ dense_6 (\u001b[38;5;33mDense\u001b[0m)                 │ (\u001b[38;5;45mNone\u001b[0m, \u001b[38;5;34m1\u001b[0m)              │            \u001b[38;5;34m65\u001b[0m │\n",
       "└─────────────────────────────────┴────────────────────────┴───────────────┘\n"
      ]
     },
     "metadata": {},
     "output_type": "display_data"
    },
    {
     "data": {
      "text/html": [
       "<pre style=\"white-space:pre;overflow-x:auto;line-height:normal;font-family:Menlo,'DejaVu Sans Mono',consolas,'Courier New',monospace\"><span style=\"font-weight: bold\"> Total params: </span><span style=\"color: #00af00; text-decoration-color: #00af00\">1,180,229</span> (4.50 MB)\n",
       "</pre>\n"
      ],
      "text/plain": [
       "\u001b[1m Total params: \u001b[0m\u001b[38;5;34m1,180,229\u001b[0m (4.50 MB)\n"
      ]
     },
     "metadata": {},
     "output_type": "display_data"
    },
    {
     "data": {
      "text/html": [
       "<pre style=\"white-space:pre;overflow-x:auto;line-height:normal;font-family:Menlo,'DejaVu Sans Mono',consolas,'Courier New',monospace\"><span style=\"font-weight: bold\"> Trainable params: </span><span style=\"color: #00af00; text-decoration-color: #00af00\">75,329</span> (294.25 KB)\n",
       "</pre>\n"
      ],
      "text/plain": [
       "\u001b[1m Trainable params: \u001b[0m\u001b[38;5;34m75,329\u001b[0m (294.25 KB)\n"
      ]
     },
     "metadata": {},
     "output_type": "display_data"
    },
    {
     "data": {
      "text/html": [
       "<pre style=\"white-space:pre;overflow-x:auto;line-height:normal;font-family:Menlo,'DejaVu Sans Mono',consolas,'Courier New',monospace\"><span style=\"font-weight: bold\"> Non-trainable params: </span><span style=\"color: #00af00; text-decoration-color: #00af00\">1,104,900</span> (4.21 MB)\n",
       "</pre>\n"
      ],
      "text/plain": [
       "\u001b[1m Non-trainable params: \u001b[0m\u001b[38;5;34m1,104,900\u001b[0m (4.21 MB)\n"
      ]
     },
     "metadata": {},
     "output_type": "display_data"
    }
   ],
   "source": [
    "from tensorflow.keras.optimizers import Adam\n",
    "optimizer = Adam(learning_rate=0.001)\n",
    "lstm_model.compile(optimizer=optimizer, loss='binary_crossentropy', metrics=['accuracy'])\n",
    "lstm_model.build(input_shape=(None, maxlen))\n",
    "lstm_model.summary()"
   ]
  },
  {
   "cell_type": "code",
   "execution_count": 73,
   "metadata": {},
   "outputs": [
    {
     "name": "stdout",
     "output_type": "stream",
     "text": [
      "Epoch 1/50\n",
      "\u001b[1m1356/1356\u001b[0m \u001b[32m━━━━━━━━━━━━━━━━━━━━\u001b[0m\u001b[37m\u001b[0m \u001b[1m25s\u001b[0m 18ms/step - accuracy: 0.8639 - loss: 0.2903 - val_accuracy: 0.9153 - val_loss: 0.2385\n",
      "Epoch 2/50\n",
      "\u001b[1m1356/1356\u001b[0m \u001b[32m━━━━━━━━━━━━━━━━━━━━\u001b[0m\u001b[37m\u001b[0m \u001b[1m26s\u001b[0m 19ms/step - accuracy: 0.8740 - loss: 0.2726 - val_accuracy: 0.9208 - val_loss: 0.2208\n",
      "Epoch 3/50\n",
      "\u001b[1m1356/1356\u001b[0m \u001b[32m━━━━━━━━━━━━━━━━━━━━\u001b[0m\u001b[37m\u001b[0m \u001b[1m27s\u001b[0m 20ms/step - accuracy: 0.8785 - loss: 0.2656 - val_accuracy: 0.9153 - val_loss: 0.1854\n",
      "Epoch 4/50\n",
      "\u001b[1m1356/1356\u001b[0m \u001b[32m━━━━━━━━━━━━━━━━━━━━\u001b[0m\u001b[37m\u001b[0m \u001b[1m31s\u001b[0m 23ms/step - accuracy: 0.8862 - loss: 0.2516 - val_accuracy: 0.9227 - val_loss: 0.2166\n",
      "Epoch 5/50\n",
      "\u001b[1m1356/1356\u001b[0m \u001b[32m━━━━━━━━━━━━━━━━━━━━\u001b[0m\u001b[37m\u001b[0m \u001b[1m35s\u001b[0m 26ms/step - accuracy: 0.8839 - loss: 0.2487 - val_accuracy: 0.9282 - val_loss: 0.1924\n",
      "Epoch 6/50\n",
      "\u001b[1m1356/1356\u001b[0m \u001b[32m━━━━━━━━━━━━━━━━━━━━\u001b[0m\u001b[37m\u001b[0m \u001b[1m28s\u001b[0m 20ms/step - accuracy: 0.8934 - loss: 0.2343 - val_accuracy: 0.9208 - val_loss: 0.1970\n",
      "Epoch 7/50\n",
      "\u001b[1m1356/1356\u001b[0m \u001b[32m━━━━━━━━━━━━━━━━━━━━\u001b[0m\u001b[37m\u001b[0m \u001b[1m26s\u001b[0m 19ms/step - accuracy: 0.8941 - loss: 0.2315 - val_accuracy: 0.9411 - val_loss: 0.1784\n",
      "Epoch 8/50\n",
      "\u001b[1m1356/1356\u001b[0m \u001b[32m━━━━━━━━━━━━━━━━━━━━\u001b[0m\u001b[37m\u001b[0m \u001b[1m25s\u001b[0m 18ms/step - accuracy: 0.8982 - loss: 0.2266 - val_accuracy: 0.9300 - val_loss: 0.1778\n",
      "Epoch 9/50\n",
      "\u001b[1m1356/1356\u001b[0m \u001b[32m━━━━━━━━━━━━━━━━━━━━\u001b[0m\u001b[37m\u001b[0m \u001b[1m23s\u001b[0m 17ms/step - accuracy: 0.9008 - loss: 0.2164 - val_accuracy: 0.9319 - val_loss: 0.1555\n",
      "Epoch 10/50\n",
      "\u001b[1m1356/1356\u001b[0m \u001b[32m━━━━━━━━━━━━━━━━━━━━\u001b[0m\u001b[37m\u001b[0m \u001b[1m24s\u001b[0m 18ms/step - accuracy: 0.9019 - loss: 0.2130 - val_accuracy: 0.9319 - val_loss: 0.1623\n",
      "Epoch 11/50\n",
      "\u001b[1m1356/1356\u001b[0m \u001b[32m━━━━━━━━━━━━━━━━━━━━\u001b[0m\u001b[37m\u001b[0m \u001b[1m29s\u001b[0m 21ms/step - accuracy: 0.9036 - loss: 0.2071 - val_accuracy: 0.9466 - val_loss: 0.1477\n",
      "Epoch 12/50\n",
      "\u001b[1m1356/1356\u001b[0m \u001b[32m━━━━━━━━━━━━━━━━━━━━\u001b[0m\u001b[37m\u001b[0m \u001b[1m43s\u001b[0m 22ms/step - accuracy: 0.9095 - loss: 0.1974 - val_accuracy: 0.9411 - val_loss: 0.1549\n",
      "Epoch 13/50\n",
      "\u001b[1m1356/1356\u001b[0m \u001b[32m━━━━━━━━━━━━━━━━━━━━\u001b[0m\u001b[37m\u001b[0m \u001b[1m34s\u001b[0m 17ms/step - accuracy: 0.9095 - loss: 0.1960 - val_accuracy: 0.9411 - val_loss: 0.1541\n",
      "Epoch 14/50\n",
      "\u001b[1m1356/1356\u001b[0m \u001b[32m━━━━━━━━━━━━━━━━━━━━\u001b[0m\u001b[37m\u001b[0m \u001b[1m24s\u001b[0m 17ms/step - accuracy: 0.9117 - loss: 0.1934 - val_accuracy: 0.9448 - val_loss: 0.1409\n",
      "Epoch 15/50\n",
      "\u001b[1m1356/1356\u001b[0m \u001b[32m━━━━━━━━━━━━━━━━━━━━\u001b[0m\u001b[37m\u001b[0m \u001b[1m28s\u001b[0m 21ms/step - accuracy: 0.9156 - loss: 0.1829 - val_accuracy: 0.9429 - val_loss: 0.1527\n",
      "Epoch 16/50\n",
      "\u001b[1m1356/1356\u001b[0m \u001b[32m━━━━━━━━━━━━━━━━━━━━\u001b[0m\u001b[37m\u001b[0m \u001b[1m31s\u001b[0m 23ms/step - accuracy: 0.9171 - loss: 0.1818 - val_accuracy: 0.9448 - val_loss: 0.1524\n",
      "Epoch 17/50\n",
      "\u001b[1m1356/1356\u001b[0m \u001b[32m━━━━━━━━━━━━━━━━━━━━\u001b[0m\u001b[37m\u001b[0m \u001b[1m24s\u001b[0m 18ms/step - accuracy: 0.9162 - loss: 0.1828 - val_accuracy: 0.9466 - val_loss: 0.1272\n",
      "Epoch 18/50\n",
      "\u001b[1m1356/1356\u001b[0m \u001b[32m━━━━━━━━━━━━━━━━━━━━\u001b[0m\u001b[37m\u001b[0m \u001b[1m24s\u001b[0m 18ms/step - accuracy: 0.9167 - loss: 0.1780 - val_accuracy: 0.9484 - val_loss: 0.1343\n",
      "Epoch 19/50\n",
      "\u001b[1m1356/1356\u001b[0m \u001b[32m━━━━━━━━━━━━━━━━━━━━\u001b[0m\u001b[37m\u001b[0m \u001b[1m31s\u001b[0m 23ms/step - accuracy: 0.9171 - loss: 0.1795 - val_accuracy: 0.9558 - val_loss: 0.1225\n",
      "Epoch 20/50\n",
      "\u001b[1m1356/1356\u001b[0m \u001b[32m━━━━━━━━━━━━━━━━━━━━\u001b[0m\u001b[37m\u001b[0m \u001b[1m23s\u001b[0m 17ms/step - accuracy: 0.9178 - loss: 0.1757 - val_accuracy: 0.9503 - val_loss: 0.1463\n",
      "Epoch 21/50\n",
      "\u001b[1m1356/1356\u001b[0m \u001b[32m━━━━━━━━━━━━━━━━━━━━\u001b[0m\u001b[37m\u001b[0m \u001b[1m23s\u001b[0m 17ms/step - accuracy: 0.9210 - loss: 0.1698 - val_accuracy: 0.9429 - val_loss: 0.1479\n",
      "Epoch 22/50\n",
      "\u001b[1m1356/1356\u001b[0m \u001b[32m━━━━━━━━━━━━━━━━━━━━\u001b[0m\u001b[37m\u001b[0m \u001b[1m25s\u001b[0m 19ms/step - accuracy: 0.9244 - loss: 0.1663 - val_accuracy: 0.9540 - val_loss: 0.1282\n",
      "Epoch 23/50\n",
      "\u001b[1m1356/1356\u001b[0m \u001b[32m━━━━━━━━━━━━━━━━━━━━\u001b[0m\u001b[37m\u001b[0m \u001b[1m37s\u001b[0m 16ms/step - accuracy: 0.9225 - loss: 0.1680 - val_accuracy: 0.9540 - val_loss: 0.1182\n",
      "Epoch 24/50\n",
      "\u001b[1m1356/1356\u001b[0m \u001b[32m━━━━━━━━━━━━━━━━━━━━\u001b[0m\u001b[37m\u001b[0m \u001b[1m25s\u001b[0m 19ms/step - accuracy: 0.9265 - loss: 0.1618 - val_accuracy: 0.9558 - val_loss: 0.1353\n",
      "Epoch 25/50\n",
      "\u001b[1m1356/1356\u001b[0m \u001b[32m━━━━━━━━━━━━━━━━━━━━\u001b[0m\u001b[37m\u001b[0m \u001b[1m23s\u001b[0m 17ms/step - accuracy: 0.9244 - loss: 0.1646 - val_accuracy: 0.9540 - val_loss: 0.1331\n",
      "Epoch 26/50\n",
      "\u001b[1m1356/1356\u001b[0m \u001b[32m━━━━━━━━━━━━━━━━━━━━\u001b[0m\u001b[37m\u001b[0m \u001b[1m24s\u001b[0m 18ms/step - accuracy: 0.9284 - loss: 0.1557 - val_accuracy: 0.9448 - val_loss: 0.1329\n",
      "Epoch 27/50\n",
      "\u001b[1m1356/1356\u001b[0m \u001b[32m━━━━━━━━━━━━━━━━━━━━\u001b[0m\u001b[37m\u001b[0m \u001b[1m23s\u001b[0m 17ms/step - accuracy: 0.9296 - loss: 0.1514 - val_accuracy: 0.9503 - val_loss: 0.1354\n",
      "Epoch 28/50\n",
      "\u001b[1m1356/1356\u001b[0m \u001b[32m━━━━━━━━━━━━━━━━━━━━\u001b[0m\u001b[37m\u001b[0m \u001b[1m23s\u001b[0m 17ms/step - accuracy: 0.9296 - loss: 0.1511 - val_accuracy: 0.9484 - val_loss: 0.1240\n",
      "Epoch 29/50\n",
      "\u001b[1m1356/1356\u001b[0m \u001b[32m━━━━━━━━━━━━━━━━━━━━\u001b[0m\u001b[37m\u001b[0m \u001b[1m22s\u001b[0m 16ms/step - accuracy: 0.9310 - loss: 0.1478 - val_accuracy: 0.9411 - val_loss: 0.1344\n",
      "Epoch 30/50\n",
      "\u001b[1m1356/1356\u001b[0m \u001b[32m━━━━━━━━━━━━━━━━━━━━\u001b[0m\u001b[37m\u001b[0m \u001b[1m22s\u001b[0m 16ms/step - accuracy: 0.9295 - loss: 0.1527 - val_accuracy: 0.9632 - val_loss: 0.1078\n",
      "Epoch 31/50\n",
      "\u001b[1m1356/1356\u001b[0m \u001b[32m━━━━━━━━━━━━━━━━━━━━\u001b[0m\u001b[37m\u001b[0m \u001b[1m22s\u001b[0m 16ms/step - accuracy: 0.9283 - loss: 0.1491 - val_accuracy: 0.9466 - val_loss: 0.1105\n",
      "Epoch 32/50\n",
      "\u001b[1m1356/1356\u001b[0m \u001b[32m━━━━━━━━━━━━━━━━━━━━\u001b[0m\u001b[37m\u001b[0m \u001b[1m23s\u001b[0m 17ms/step - accuracy: 0.9314 - loss: 0.1483 - val_accuracy: 0.9595 - val_loss: 0.1192\n",
      "Epoch 33/50\n",
      "\u001b[1m1356/1356\u001b[0m \u001b[32m━━━━━━━━━━━━━━━━━━━━\u001b[0m\u001b[37m\u001b[0m \u001b[1m22s\u001b[0m 17ms/step - accuracy: 0.9304 - loss: 0.1490 - val_accuracy: 0.9521 - val_loss: 0.1103\n",
      "Epoch 34/50\n",
      "\u001b[1m1356/1356\u001b[0m \u001b[32m━━━━━━━━━━━━━━━━━━━━\u001b[0m\u001b[37m\u001b[0m \u001b[1m23s\u001b[0m 17ms/step - accuracy: 0.9328 - loss: 0.1479 - val_accuracy: 0.9521 - val_loss: 0.1157\n",
      "Epoch 35/50\n",
      "\u001b[1m1356/1356\u001b[0m \u001b[32m━━━━━━━━━━━━━━━━━━━━\u001b[0m\u001b[37m\u001b[0m \u001b[1m23s\u001b[0m 17ms/step - accuracy: 0.9307 - loss: 0.1483 - val_accuracy: 0.9576 - val_loss: 0.1130\n",
      "Epoch 36/50\n",
      "\u001b[1m1356/1356\u001b[0m \u001b[32m━━━━━━━━━━━━━━━━━━━━\u001b[0m\u001b[37m\u001b[0m \u001b[1m22s\u001b[0m 17ms/step - accuracy: 0.9338 - loss: 0.1415 - val_accuracy: 0.9411 - val_loss: 0.1614\n",
      "Epoch 37/50\n",
      "\u001b[1m1356/1356\u001b[0m \u001b[32m━━━━━━━━━━━━━━━━━━━━\u001b[0m\u001b[37m\u001b[0m \u001b[1m28s\u001b[0m 21ms/step - accuracy: 0.9343 - loss: 0.1435 - val_accuracy: 0.9484 - val_loss: 0.1311\n",
      "Epoch 38/50\n",
      "\u001b[1m1356/1356\u001b[0m \u001b[32m━━━━━━━━━━━━━━━━━━━━\u001b[0m\u001b[37m\u001b[0m \u001b[1m28s\u001b[0m 20ms/step - accuracy: 0.9326 - loss: 0.1438 - val_accuracy: 0.9503 - val_loss: 0.1349\n",
      "Epoch 39/50\n",
      "\u001b[1m1356/1356\u001b[0m \u001b[32m━━━━━━━━━━━━━━━━━━━━\u001b[0m\u001b[37m\u001b[0m \u001b[1m34s\u001b[0m 25ms/step - accuracy: 0.9333 - loss: 0.1448 - val_accuracy: 0.9503 - val_loss: 0.1371\n",
      "Epoch 40/50\n",
      "\u001b[1m1356/1356\u001b[0m \u001b[32m━━━━━━━━━━━━━━━━━━━━\u001b[0m\u001b[37m\u001b[0m \u001b[1m35s\u001b[0m 26ms/step - accuracy: 0.9371 - loss: 0.1387 - val_accuracy: 0.9632 - val_loss: 0.1204\n"
     ]
    }
   ],
   "source": [
    "checkpoint_cb = keras.callbacks.ModelCheckpoint('lstm_model.keras', save_best_only=True)\n",
    "early_stopping_cb = keras.callbacks.EarlyStopping(patience=10, restore_best_weights=True)\n",
    "history= lstm_model.fit(train_padded, labels, epochs=50, batch_size = 32,callbacks=[checkpoint_cb, early_stopping_cb], \\\n",
    "                       validation_data=(test_padded, labels_test))"
   ]
  },
  {
   "cell_type": "code",
   "execution_count": 74,
   "metadata": {},
   "outputs": [
    {
     "data": {
      "image/png": "[encoded data removed]",
      "text/plain": [
       "<Figure size 640x480 with 1 Axes>"
      ]
     },
     "metadata": {},
     "output_type": "display_data"
    }
   ],
   "source": [
    "import matplotlib.pyplot as plt\n",
    "plt.plot(history.history['loss'])\n",
    "plt.plot(history.history['val_loss'])\n",
    "plt.xlabel('epoch')\n",
    "plt.ylabel('loss')\n",
    "plt.legend(['train', 'val'])\n",
    "plt.show()"
   ]
  },
  {
   "cell_type": "markdown",
   "metadata": {},
   "source": [
    "-첫번째 그래프\n",
    "\n",
    "678/678 ━━━━━━━━━━━━━━━━━━━━ 7s 10ms/step - accuracy: 0.8262 - loss: 0.3718 - val_accuracy: 0.8490 - val_loss: 0.3364\n",
    "\n",
    "-현재 그래프\n",
    "\n",
    "1356/1356 ━━━━━━━━━━━━━━━━━━━━ 35s 26ms/step - accuracy: 0.9371 - loss: 0.1387 - val_accuracy: 0.9632 - val_loss: 0.1204\n",
    "\n",
    "으로 train data는 0.8262 -> 0.9371, test data는 0.8490 -> 0.9632로 유의미하게 증가하였다.\n",
    "\n",
    "LSTM layer의 출력 차원 변경과 epoch, batch_size, dropout의 변화가 효과가 있었던 것으로 보인다.\n"
   ]
  },
  {
   "cell_type": "markdown",
   "metadata": {},
   "source": [
    "**+) 추가**"
   ]
  },
  {
   "cell_type": "markdown",
   "metadata": {},
   "source": [
    "<img src=\"dropout_x.png\" alt=\"description\" width=\"500\"/>\n",
    "\n",
    "위의 그림은 droupout=0.3을 사용하지 않은 사진이다. loss가 0.2 미만으로 매우 감소했으나 epoch이 15 이후로 validation data가 증가하여 과적합이 발생했다.\n",
    "\n",
    "이에 따라 2번째 model에서 dropout을 지정해주었다.\n"
   ]
  }
 ],
 "metadata": {
  "kernelspec": {
   "display_name": "nltk",
   "language": "python",
   "name": "python3"
  },
  "language_info": {
   "codemirror_mode": {
    "name": "ipython",
    "version": 3
   },
   "file_extension": ".py",
   "mimetype": "text/x-python",
   "name": "python",
   "nbconvert_exporter": "python",
   "pygments_lexer": "ipython3",
   "version": "3.12.5"
  }
 },
 "nbformat": 4,
 "nbformat_minor": 2
}
